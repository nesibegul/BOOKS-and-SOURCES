{
  "nbformat": 4,
  "nbformat_minor": 0,
  "metadata": {
    "colab": {
      "name": "7_geopandas.ipynb",
      "provenance": [],
      "collapsed_sections": []
    },
    "kernelspec": {
      "name": "python3",
      "display_name": "Python 3"
    }
  },
  "cells": [
    {
      "cell_type": "code",
      "metadata": {
        "id": "MLheKeXr3rO7"
      },
      "source": [
        "!pip install geopandas"
      ],
      "execution_count": null,
      "outputs": []
    },
    {
      "cell_type": "code",
      "metadata": {
        "id": "yIXWx3gYJ9ra"
      },
      "source": [
        "import geopandas as gpd\n",
        "import pandas as pd"
      ],
      "execution_count": null,
      "outputs": []
    },
    {
      "cell_type": "code",
      "metadata": {
        "id": "YybrRW1tKZtu"
      },
      "source": [
        "map_df = gpd.read_file(\"http://web.cs.hacettepe.edu.tr/~engindemir/teaching/VBM661/data/turkey_administrativelevels0_1_2.zip\")"
      ],
      "execution_count": null,
      "outputs": []
    },
    {
      "cell_type": "code",
      "metadata": {
        "id": "NY7uzrFsyiRQ"
      },
      "source": [
        "map_df.sample(5)"
      ],
      "execution_count": null,
      "outputs": []
    },
    {
      "cell_type": "code",
      "metadata": {
        "id": "fZ3Bxh6yytx3"
      },
      "source": [
        "map_df.plot(figsize=(30,10))"
      ],
      "execution_count": null,
      "outputs": []
    },
    {
      "cell_type": "code",
      "metadata": {
        "id": "mnNm3LuWEm99"
      },
      "source": [
        "from IPython.display import Image\n",
        "Image(\"https://imgs.xkcd.com/comics/heatmap.png\" )"
      ],
      "execution_count": null,
      "outputs": []
    },
    {
      "cell_type": "code",
      "metadata": {
        "id": "Zl-gqCFywjUT"
      },
      "source": [
        "nufus = pd.read_excel(\"http://web.cs.hacettepe.edu.tr/~engindemir/teaching/VBM661/data/nufus.xlsx\")"
      ],
      "execution_count": null,
      "outputs": []
    },
    {
      "cell_type": "code",
      "metadata": {
        "id": "stH4YGTrwnD-"
      },
      "source": [
        "nufus.head()"
      ],
      "execution_count": null,
      "outputs": []
    },
    {
      "cell_type": "code",
      "metadata": {
        "id": "ZQZxGIniwqhJ"
      },
      "source": [
        "nufus.set_index('İL', inplace=True)\n",
        "nufus.head()\n"
      ],
      "execution_count": null,
      "outputs": []
    },
    {
      "cell_type": "code",
      "metadata": {
        "id": "QTXLywpUyJVj"
      },
      "source": [
        "merged = map_df.set_index(\"adm1_tr\").join(nufus)\n",
        "merged.head()"
      ],
      "execution_count": null,
      "outputs": []
    },
    {
      "cell_type": "code",
      "metadata": {
        "id": "DELtFx7yw5Dk"
      },
      "source": [
        "merged.sample(10)"
      ],
      "execution_count": null,
      "outputs": []
    },
    {
      "cell_type": "code",
      "metadata": {
        "id": "cZyTBGDRxBZU"
      },
      "source": [
        "merged[\"YOGUNLUK\"] = merged[\"TOPLAM\"] / merged[\"Shape_Area\"]"
      ],
      "execution_count": null,
      "outputs": []
    },
    {
      "cell_type": "code",
      "metadata": {
        "id": "V1-Z51bBzITZ"
      },
      "source": [
        "merged.loc['ANKARA']"
      ],
      "execution_count": null,
      "outputs": []
    },
    {
      "cell_type": "code",
      "metadata": {
        "id": "ZffEqvv8zJkP"
      },
      "source": [
        "merged.plot(column=\"YOGUNLUK\", cmap=\"Blues\", linewidth=0.8, edgecolor=\"0.8\", figsize=(30,10))"
      ],
      "execution_count": null,
      "outputs": []
    }
  ]
}