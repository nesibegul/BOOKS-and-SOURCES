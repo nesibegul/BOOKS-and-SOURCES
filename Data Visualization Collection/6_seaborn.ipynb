{
  "nbformat": 4,
  "nbformat_minor": 0,
  "metadata": {
    "colab": {
      "name": "seaborn.ipynb",
      "provenance": []
    },
    "kernelspec": {
      "name": "python3",
      "display_name": "Python 3"
    }
  },
  "cells": [
    {
      "cell_type": "markdown",
      "metadata": {
        "id": "vWGpKdcEfZ7Q"
      },
      "source": [
        "## Seaborn "
      ]
    },
    {
      "cell_type": "code",
      "metadata": {
        "id": "rDbJl5jLaLaV"
      },
      "source": [
        "import numpy as np\n",
        "import pandas as pd\n",
        "import matplotlib.pyplot as plt\n",
        "import seaborn as sns\n",
        "sns.set_theme(style=\"darkgrid\")"
      ],
      "execution_count": null,
      "outputs": []
    },
    {
      "cell_type": "code",
      "metadata": {
        "id": "LQj-rD9-aXim"
      },
      "source": [
        "tips = sns.load_dataset(\"tips\")\n",
        "tips.head()"
      ],
      "execution_count": null,
      "outputs": []
    },
    {
      "cell_type": "code",
      "metadata": {
        "id": "3_ZjwPgxaZzw"
      },
      "source": [
        "sns.relplot(x=\"total_bill\", y=\"tip\", data=tips);"
      ],
      "execution_count": null,
      "outputs": []
    },
    {
      "cell_type": "code",
      "metadata": {
        "id": "aeexFgItapIf"
      },
      "source": [
        "sns.relplot(x=\"total_bill\", y=\"tip\", hue=\"smoker\", style=\"smoker\",\n",
        "            data=tips);"
      ],
      "execution_count": null,
      "outputs": []
    },
    {
      "cell_type": "code",
      "metadata": {
        "id": "fjk-p96-auox"
      },
      "source": [
        "sns.relplot(x=\"total_bill\", y=\"tip\", hue=\"smoker\", style=\"time\", data=tips);"
      ],
      "execution_count": null,
      "outputs": []
    },
    {
      "cell_type": "code",
      "metadata": {
        "id": "bIstKJdSaxHB"
      },
      "source": [
        "sns.relplot(x=\"total_bill\", y=\"tip\", hue=\"size\", data=tips);"
      ],
      "execution_count": null,
      "outputs": []
    },
    {
      "cell_type": "code",
      "metadata": {
        "id": "DPvhWqkwazsF"
      },
      "source": [
        "sns.relplot(x=\"total_bill\", y=\"tip\", hue=\"size\", palette=\"ch:r=-.5,l=.75\", data=tips);"
      ],
      "execution_count": null,
      "outputs": []
    },
    {
      "cell_type": "code",
      "metadata": {
        "id": "OgC4mi-Wa2VF"
      },
      "source": [
        "sns.relplot(x=\"total_bill\", y=\"tip\", size=\"size\", data=tips);"
      ],
      "execution_count": null,
      "outputs": []
    },
    {
      "cell_type": "code",
      "metadata": {
        "id": "9hOiscoja4jR"
      },
      "source": [
        "sns.relplot(x=\"total_bill\", y=\"tip\", size=\"size\", sizes=(15, 200), data=tips);"
      ],
      "execution_count": null,
      "outputs": []
    },
    {
      "cell_type": "markdown",
      "metadata": {
        "id": "L4qu4ElZfRtU"
      },
      "source": [
        "# Histogram"
      ]
    },
    {
      "cell_type": "code",
      "metadata": {
        "id": "Fv_gZ-xLa7YM"
      },
      "source": [
        "penguins = sns.load_dataset(\"penguins\")\n",
        "penguins.head()"
      ],
      "execution_count": null,
      "outputs": []
    },
    {
      "cell_type": "code",
      "metadata": {
        "id": "1iBh28xpbXzS"
      },
      "source": [
        "sns.displot(penguins, x=\"flipper_length_mm\")"
      ],
      "execution_count": null,
      "outputs": []
    },
    {
      "cell_type": "code",
      "metadata": {
        "id": "T1RukTGUbeoh"
      },
      "source": [
        "sns.displot(penguins, x=\"flipper_length_mm\", binwidth=3)"
      ],
      "execution_count": null,
      "outputs": []
    },
    {
      "cell_type": "code",
      "metadata": {
        "id": "7U2DY0f4blFP"
      },
      "source": [
        "sns.displot(penguins, x=\"flipper_length_mm\", bins=20)"
      ],
      "execution_count": null,
      "outputs": []
    },
    {
      "cell_type": "code",
      "metadata": {
        "id": "AaO0rr1YbrpK"
      },
      "source": [
        "sns.displot(penguins, x=\"flipper_length_mm\", hue=\"species\", multiple=\"stack\")"
      ],
      "execution_count": null,
      "outputs": []
    },
    {
      "cell_type": "markdown",
      "metadata": {
        "id": "vTdbDoAamaOx"
      },
      "source": [
        "## Kernel density estimation"
      ]
    },
    {
      "cell_type": "code",
      "metadata": {
        "id": "Ss_wZ5fnb4_J"
      },
      "source": [
        "sns.displot(penguins, x=\"flipper_length_mm\", kind=\"kde\")"
      ],
      "execution_count": null,
      "outputs": []
    },
    {
      "cell_type": "code",
      "metadata": {
        "id": "skA65A1bcbBm"
      },
      "source": [
        "sns.displot(penguins, x=\"flipper_length_mm\", hue=\"species\", kind=\"kde\")"
      ],
      "execution_count": null,
      "outputs": []
    },
    {
      "cell_type": "markdown",
      "metadata": {
        "id": "A1enOl32mfz6"
      },
      "source": [
        "## Box plots"
      ]
    },
    {
      "cell_type": "code",
      "metadata": {
        "id": "uS_dUS4BcfPe"
      },
      "source": [
        "sns.catplot(x=\"day\", y=\"total_bill\", kind=\"box\", data=tips)"
      ],
      "execution_count": null,
      "outputs": []
    },
    {
      "cell_type": "code",
      "metadata": {
        "id": "i7ctcYTxc3RY"
      },
      "source": [
        "sns.catplot(x=\"day\", y=\"total_bill\", hue=\"smoker\", kind=\"box\", data=tips)"
      ],
      "execution_count": null,
      "outputs": []
    },
    {
      "cell_type": "code",
      "metadata": {
        "id": "_ol5Wjztc92L"
      },
      "source": [
        ""
      ],
      "execution_count": null,
      "outputs": []
    },
    {
      "cell_type": "markdown",
      "metadata": {
        "id": "R_alFLO7dB1B"
      },
      "source": [
        "# Violinplots"
      ]
    },
    {
      "cell_type": "code",
      "metadata": {
        "id": "fcrsASfRdIMF"
      },
      "source": [
        "sns.catplot(x=\"total_bill\", y=\"day\", hue=\"sex\",\n",
        "            kind=\"violin\", data=tips)"
      ],
      "execution_count": null,
      "outputs": []
    },
    {
      "cell_type": "code",
      "metadata": {
        "id": "AmJih3rXe9vU"
      },
      "source": [
        "sns.catplot(x=\"day\", y=\"total_bill\", hue=\"sex\",\n",
        "            kind=\"violin\", split=True, data=tips)"
      ],
      "execution_count": null,
      "outputs": []
    },
    {
      "cell_type": "code",
      "metadata": {
        "id": "w9TuPxRhfCJG"
      },
      "source": [
        "sns.catplot(x=\"day\", y=\"total_bill\", hue=\"sex\",\n",
        "            kind=\"violin\", inner=\"stick\", split=True,\n",
        "            palette=\"pastel\", data=tips)"
      ],
      "execution_count": null,
      "outputs": []
    },
    {
      "cell_type": "markdown",
      "metadata": {
        "id": "1z-Y8sQunANO"
      },
      "source": [
        "## Strip Charts"
      ]
    },
    {
      "cell_type": "code",
      "metadata": {
        "id": "skSUMY_cfIUd"
      },
      "source": [
        "sns.catplot(x=\"day\", y=\"total_bill\", jitter=False, data=tips)"
      ],
      "execution_count": null,
      "outputs": []
    },
    {
      "cell_type": "code",
      "metadata": {
        "id": "kECTo88EnDKK"
      },
      "source": [
        "sns.catplot(x=\"day\", y=\"total_bill\", data=tips)"
      ],
      "execution_count": null,
      "outputs": []
    },
    {
      "cell_type": "code",
      "metadata": {
        "id": "Ljj0Glj0nFui"
      },
      "source": [
        "sns.catplot(x=\"day\", y=\"total_bill\", kind=\"swarm\", data=tips)"
      ],
      "execution_count": null,
      "outputs": []
    },
    {
      "cell_type": "code",
      "metadata": {
        "id": "OGTrOID7nIMH"
      },
      "source": [
        "sns.catplot(x=\"day\", y=\"total_bill\", hue=\"sex\", kind=\"swarm\", data=tips)"
      ],
      "execution_count": null,
      "outputs": []
    },
    {
      "cell_type": "markdown",
      "metadata": {
        "id": "2jo5wOAWn4MM"
      },
      "source": [
        "## Empirical cumulative distributions"
      ]
    },
    {
      "cell_type": "code",
      "metadata": {
        "id": "_oj7tqHvnLDg"
      },
      "source": [
        "sns.displot(penguins, x=\"flipper_length_mm\", kind=\"ecdf\")"
      ],
      "execution_count": null,
      "outputs": []
    },
    {
      "cell_type": "code",
      "metadata": {
        "id": "MmDIGR-wn7BK"
      },
      "source": [
        "sns.displot(penguins, x=\"flipper_length_mm\", hue=\"species\", kind=\"ecdf\")"
      ],
      "execution_count": null,
      "outputs": []
    },
    {
      "cell_type": "code",
      "metadata": {
        "id": "RdmbUcRvn-B3"
      },
      "source": [
        ""
      ],
      "execution_count": null,
      "outputs": []
    }
  ]
}