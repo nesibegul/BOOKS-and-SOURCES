{
  "nbformat": 4,
  "nbformat_minor": 0,
  "metadata": {
    "kernelspec": {
      "display_name": "Python 3",
      "language": "python",
      "name": "python3"
    },
    "language_info": {
      "codemirror_mode": {
        "name": "ipython",
        "version": 3
      },
      "file_extension": ".py",
      "mimetype": "text/x-python",
      "name": "python",
      "nbconvert_exporter": "python",
      "pygments_lexer": "ipython3",
      "version": "3.6.6"
    },
    "colab": {
      "name": "data-map-visualization-w-geopandas.ipynb",
      "provenance": []
    }
  },
  "cells": [
    {
      "cell_type": "code",
      "metadata": {
        "id": "hhfno9HCjH_o"
      },
      "source": [
        "!pip install geopandas"
      ],
      "execution_count": null,
      "outputs": []
    },
    {
      "cell_type": "code",
      "metadata": {
        "_cell_guid": "b1076dfc-b9ad-4769-8c92-a6c4dae69d19",
        "_uuid": "8f2839f25d086af736a60e9eeb907d3b93b6e0e5",
        "id": "P6xTAYPIifll"
      },
      "source": [
        "import pandas as pd\n",
        "import numpy as np\n",
        "import geopandas as gpd\n",
        "import sklearn\n",
        "import seaborn as sns\n",
        "import matplotlib.pyplot as plt"
      ],
      "execution_count": null,
      "outputs": []
    },
    {
      "cell_type": "code",
      "metadata": {
        "_cell_guid": "79c7e3d0-c299-4dcb-8224-4455121ee9b0",
        "_kg_hide-input": true,
        "_uuid": "d629ff2d2480ee46fbb7e2d37f6b5fab8052498a",
        "id": "VFn_U0gZiflq"
      },
      "source": [
        "sns.set_style('darkgrid')\n",
        "data = pd.read_csv('https://web.cs.hacettepe.edu.tr/~engindemir/teaching/VBM661/data/master.csv')\n",
        "data.shape"
      ],
      "execution_count": null,
      "outputs": []
    },
    {
      "cell_type": "code",
      "metadata": {
        "_uuid": "6bb2fdc46cce50ff7fc6de70d7d78d7e28243d6d",
        "id": "viQ3adh3iflr"
      },
      "source": [
        "data.info()"
      ],
      "execution_count": null,
      "outputs": []
    },
    {
      "cell_type": "code",
      "metadata": {
        "_uuid": "76363aeb9c476114fd50c748404cbeae2b90b1a4",
        "id": "YFdTk3yfiflr"
      },
      "source": [
        "data = data.drop('country-year', 1)\n",
        "df = data.drop('HDI for year', 1)\n",
        "df.head()"
      ],
      "execution_count": null,
      "outputs": []
    },
    {
      "cell_type": "code",
      "metadata": {
        "_uuid": "a0aba7afd827dabaa35ed875dcf5e276811cc213",
        "id": "68v8Alb2ifls"
      },
      "source": [
        "list(df.columns.values)"
      ],
      "execution_count": null,
      "outputs": []
    },
    {
      "cell_type": "code",
      "metadata": {
        "_uuid": "3d253296952f689c372cfb009524006955d95196",
        "id": "t4k79ubWifls"
      },
      "source": [
        "## map plot based on country map\n",
        "world = gpd.read_file(gpd.datasets.get_path('naturalearth_lowres'))\n",
        "country_data = list(df['country'].unique())\n",
        "country_geo = list(world['name'])\n",
        "\n",
        "country_diff = [country for country in country_data if country not in country_geo]\n",
        "country_diff"
      ],
      "execution_count": null,
      "outputs": []
    },
    {
      "cell_type": "code",
      "metadata": {
        "id": "9ucs9jS3jxRa"
      },
      "source": [
        "world"
      ],
      "execution_count": null,
      "outputs": []
    },
    {
      "cell_type": "code",
      "metadata": {
        "_uuid": "a297cc7969c1ca0416b1c1522495e2be01b5a6dc",
        "id": "WOiUldEfiflt"
      },
      "source": [
        "# Some country dont have same name country as listed on geomaps\n",
        "temp = pd.DataFrame(df['country'].replace({'Russian Federation' : 'Russia', 'Republic of Korea': 'Korea',\n",
        "                                            'Czech Republic' : 'Czech Rep.', 'Bosnia and Herzegovina' : 'Bosnia and Herz.',\n",
        "                                           'Dominica' : 'Dominican Rep.'}))\n",
        "\n",
        "df['country'] = temp\n",
        "country_data = list(df['country'].unique())\n",
        "country_data"
      ],
      "execution_count": null,
      "outputs": []
    },
    {
      "cell_type": "code",
      "metadata": {
        "_uuid": "26458629013211421a9d665b6df3a93de9a5fba7",
        "id": "2FR9XQHdiflu"
      },
      "source": [
        "# make a dataframe of suicides_no and country to be plotted\n",
        "# suicide_sum = pd.DataFrame(df['suicides_no'].groupby(df['country']).sum())\n",
        "suicide_sum = df.groupby('country', sort=False)[\"suicides_no\"].sum().reset_index(name ='total_suicides')\n",
        "suicide_sum = suicide_sum.sort_values(by=\"total_suicides\", ascending=False)\n",
        "\n",
        "suicide_sum.head()"
      ],
      "execution_count": null,
      "outputs": []
    },
    {
      "cell_type": "code",
      "metadata": {
        "_uuid": "1eb5533228b76a1b0a89c3328a30c7b2e1e14a0b",
        "id": "4ex11Yp3iflv"
      },
      "source": [
        "mapped = world.set_index('name').join(suicide_sum.set_index('country')).reset_index()\n",
        "\n",
        "to_be_mapped = 'total_suicides'\n",
        "vmin, vmax = 0,1209742\n",
        "fig, ax = plt.subplots(1, figsize=(20,20))\n",
        "\n",
        "mapped.dropna().plot(column=to_be_mapped, cmap='Blues', linewidth=0.8, ax=ax, edgecolors='0.8')\n",
        "ax.set_title('Number of suicides happened in countries', fontdict={'fontsize':22})\n",
        "ax.set_axis_off()\n",
        "\n",
        "sm = plt.cm.ScalarMappable(cmap='Blues', norm=plt.Normalize(vmin=vmin, vmax=vmax))\n",
        "sm._A = []\n",
        "\n",
        "cbar = fig.colorbar(sm, orientation='horizontal')"
      ],
      "execution_count": null,
      "outputs": []
    },
    {
      "cell_type": "code",
      "metadata": {
        "_uuid": "6199c48dea7d90a54f280fe2ef1a379621406a51",
        "id": "4dGj_j4Qiflw"
      },
      "source": [
        "## num of suicides grouped by generations\n",
        "suicides_gen = df.groupby('generation', sort=False)[\"suicides_no\"].sum().reset_index(name ='total_suicides')\n",
        "suicides_gen = suicides_gen.sort_values(by='total_suicides', ascending=False)\n",
        "\n",
        "fig, ax = plt.subplots(1, figsize=(9,5))\n",
        "sns.barplot(ax=ax,x='total_suicides',y='generation',data=suicides_gen)\n",
        "ax.set_title(\"Number of suicides per generation\")"
      ],
      "execution_count": null,
      "outputs": []
    },
    {
      "cell_type": "code",
      "metadata": {
        "id": "2NoxTBPyxyLh"
      },
      "source": [
        "# line plot progress of total suicides number per country per year\n",
        "# some produce error because plt read the data as scalar, gotta fix it soon\n",
        "suicides_year_country = df.groupby(['country', 'year'], sort=True)[\"suicides_no\"].sum().reset_index(name ='total_suicides')\n",
        "suicides_year_country = suicides_year_country.set_index('country')\n",
        "\n",
        "len_country = len(country_data)\n",
        "len_country"
      ],
      "execution_count": null,
      "outputs": []
    },
    {
      "cell_type": "code",
      "metadata": {
        "_uuid": "82bc646d1d11caef03025c2564cc0e2e3607a3a9",
        "id": "es4Bnv5Diflx"
      },
      "source": [
        "for row in range(len_country//4):\n",
        "    fig, ax = plt.subplots(1,6, figsize=(20,4),sharey=True)\n",
        "    for column in range(6):\n",
        "        try:\n",
        "            current_ax = ax[column]\n",
        "            country = country_data[row*4+column]\n",
        "            to_be_plotted = suicides_year_country.loc[country].reset_index()\n",
        "            to_be_plotted.head()\n",
        "            sns.lineplot(ax=current_ax, x='year', y='total_suicides', data=to_be_plotted, palette='Blues')\n",
        "            current_ax.set_title(country)\n",
        "        except:\n",
        "            continue\n"
      ],
      "execution_count": null,
      "outputs": []
    },
    {
      "cell_type": "code",
      "metadata": {
        "id": "160P-NQqx738"
      },
      "source": [
        ""
      ],
      "execution_count": null,
      "outputs": []
    }
  ]
}