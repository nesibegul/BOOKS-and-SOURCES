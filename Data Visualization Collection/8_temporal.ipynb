{
  "nbformat": 4,
  "nbformat_minor": 0,
  "metadata": {
    "colab": {
      "name": "10_uygulama.ipynb",
      "provenance": [],
      "collapsed_sections": []
    },
    "kernelspec": {
      "name": "python3",
      "display_name": "Python 3"
    }
  },
  "cells": [
    {
      "cell_type": "code",
      "metadata": {
        "id": "gFAQfSf-6hFe"
      },
      "source": [
        "import pandas as pd\n",
        "pd.to_datetime('2018-01-15 3:45pm')"
      ],
      "execution_count": null,
      "outputs": []
    },
    {
      "cell_type": "code",
      "metadata": {
        "id": "yVYnEfcU6kYV"
      },
      "source": [
        "pd.to_datetime('7/8/1952')"
      ],
      "execution_count": null,
      "outputs": []
    },
    {
      "cell_type": "code",
      "metadata": {
        "id": "QsYCUyrX5RXY"
      },
      "source": [
        "opsd_daily = pd.read_csv('https://github.com/jenfly/opsd/raw/master/opsd_germany_daily.csv')"
      ],
      "execution_count": null,
      "outputs": []
    },
    {
      "cell_type": "code",
      "metadata": {
        "id": "Ek1Z4dh45Ufm"
      },
      "source": [
        "opsd_daily.head()"
      ],
      "execution_count": null,
      "outputs": []
    },
    {
      "cell_type": "code",
      "metadata": {
        "id": "mpnMgLBR5f_s"
      },
      "source": [
        "opsd_daily.tail()"
      ],
      "execution_count": null,
      "outputs": []
    },
    {
      "cell_type": "code",
      "metadata": {
        "id": "8C3R8WQP5q5F"
      },
      "source": [
        "opsd_daily.dtypes"
      ],
      "execution_count": null,
      "outputs": []
    },
    {
      "cell_type": "code",
      "metadata": {
        "id": "GKFws3i174p8"
      },
      "source": [
        "opsd_daily['Date']"
      ],
      "execution_count": null,
      "outputs": []
    },
    {
      "cell_type": "code",
      "metadata": {
        "id": "1R6-YvCm7oOs"
      },
      "source": [
        "opsd_daily['Date']=pd.to_datetime(opsd_daily['Date'])"
      ],
      "execution_count": null,
      "outputs": []
    },
    {
      "cell_type": "code",
      "metadata": {
        "id": "oy8MhT-TrchU"
      },
      "source": [
        "opsd_daily['Date']"
      ],
      "execution_count": null,
      "outputs": []
    },
    {
      "cell_type": "code",
      "metadata": {
        "id": "1KRbV_vb6xhz"
      },
      "source": [
        "opsd_daily = opsd_daily.set_index('Date')"
      ],
      "execution_count": null,
      "outputs": []
    },
    {
      "cell_type": "code",
      "metadata": {
        "id": "5jlPPQWt6638"
      },
      "source": [
        "opsd_daily.sample(5)"
      ],
      "execution_count": null,
      "outputs": []
    },
    {
      "cell_type": "code",
      "metadata": {
        "id": "12-u7KbsrycO"
      },
      "source": [
        "opsd_daily.describe()"
      ],
      "execution_count": null,
      "outputs": []
    },
    {
      "cell_type": "code",
      "metadata": {
        "id": "ea4NebnP6_Ic"
      },
      "source": [
        "opsd_daily['Year'] = opsd_daily.index.year\n",
        "opsd_daily['Month'] = opsd_daily.index.month\n",
        "opsd_daily['Weekday Name'] = opsd_daily.index.day_name()\n",
        "# Display a random sampling of 5 rows\n",
        "opsd_daily.sample(5)"
      ],
      "execution_count": null,
      "outputs": []
    },
    {
      "cell_type": "code",
      "metadata": {
        "id": "ecG107q181xC"
      },
      "source": [
        "opsd_daily.loc['2017-08-10']"
      ],
      "execution_count": null,
      "outputs": []
    },
    {
      "cell_type": "code",
      "metadata": {
        "id": "_IzZ_wMO9BbT"
      },
      "source": [
        "opsd_daily.loc['2014-01-20':'2014-01-22']"
      ],
      "execution_count": null,
      "outputs": []
    },
    {
      "cell_type": "code",
      "metadata": {
        "id": "VailIZbb9EUj"
      },
      "source": [
        "opsd_daily.loc['2012-02']"
      ],
      "execution_count": null,
      "outputs": []
    },
    {
      "cell_type": "code",
      "metadata": {
        "id": "S3pZvxgP9HPC"
      },
      "source": [
        "import matplotlib.pyplot as plt\n",
        "import seaborn as sns\n",
        "sns.set(rc={'figure.figsize':(11, 4)})"
      ],
      "execution_count": null,
      "outputs": []
    },
    {
      "cell_type": "code",
      "metadata": {
        "id": "Y33cox739Opk"
      },
      "source": [
        "opsd_daily['Consumption'].plot(linewidth=0.5);"
      ],
      "execution_count": null,
      "outputs": []
    },
    {
      "cell_type": "code",
      "metadata": {
        "id": "qk2ojEg1DOWD"
      },
      "source": [
        "opsd_montly = opsd_daily.resample('M').mean()\r\n",
        "opsd_montly['Consumption'].plot(linewidth=1)"
      ],
      "execution_count": null,
      "outputs": []
    },
    {
      "cell_type": "code",
      "metadata": {
        "id": "00GrJRBe9PKJ"
      },
      "source": [
        "cols_plot = ['Consumption', 'Solar', 'Wind']\n",
        "axes = opsd_daily[cols_plot].plot(marker='.', alpha=0.5, linestyle='None', figsize=(11, 9), subplots=True) #subplots : boolean, default False. Make separate subplots for each column\n"
      ],
      "execution_count": null,
      "outputs": []
    },
    {
      "cell_type": "code",
      "metadata": {
        "id": "dznZJH3w9esC"
      },
      "source": [
        "ax = opsd_daily.loc['2017', 'Consumption'].plot()\n",
        "ax.set_ylabel('Daily Consumption (GWh)');"
      ],
      "execution_count": null,
      "outputs": []
    },
    {
      "cell_type": "code",
      "metadata": {
        "id": "X6uM2jmT9sCy"
      },
      "source": [
        "ax = opsd_daily.loc['2017-01':'2017-02', 'Consumption'].plot(marker='o', linestyle='-')\n",
        "ax.set_ylabel('Daily Consumption (GWh)');"
      ],
      "execution_count": null,
      "outputs": []
    },
    {
      "cell_type": "code",
      "metadata": {
        "id": "RghD8lz1-N-z"
      },
      "source": [
        "fig, axes = plt.subplots(3, 1, figsize=(11, 10), sharex=True)\n",
        "for name, ax in zip(['Consumption', 'Solar', 'Wind'], axes):\n",
        "  sns.boxplot(data=opsd_daily, x='Month', y=name, ax=ax)"
      ],
      "execution_count": null,
      "outputs": []
    },
    {
      "cell_type": "code",
      "metadata": {
        "id": "-hLpvuRF-fNT"
      },
      "source": [
        "sns.boxplot(data=opsd_daily, x='Weekday Name', y='Consumption');"
      ],
      "execution_count": null,
      "outputs": []
    },
    {
      "cell_type": "code",
      "metadata": {
        "id": "n3VPpX2_uG-9"
      },
      "source": [
        "opsd_365d = opsd_daily[['Consumption', 'Solar', 'Wind']].rolling(window=365, center=True, min_periods=300).mean()\n",
        "opsd_365d.sample(10)"
      ],
      "execution_count": null,
      "outputs": []
    },
    {
      "cell_type": "code",
      "metadata": {
        "id": "A0od8BUZu8l3"
      },
      "source": [
        "opsd_365d[['Consumption', 'Solar', 'Wind']].plot()"
      ],
      "execution_count": null,
      "outputs": []
    },
    {
      "cell_type": "code",
      "metadata": {
        "id": "jEkb3ICq-7_A"
      },
      "source": [
        "import pandas as pd\n",
        "import statsmodels.api as sm\n",
        "import seaborn as sns\n",
        "import matplotlib.pyplot as plt\n",
        "data = sm.datasets.co2.load_pandas()\n",
        "co2 = data.data"
      ],
      "execution_count": null,
      "outputs": []
    },
    {
      "cell_type": "code",
      "metadata": {
        "id": "qfpGAHCMlnqu"
      },
      "source": [
        "co2.head()"
      ],
      "execution_count": null,
      "outputs": []
    },
    {
      "cell_type": "code",
      "metadata": {
        "id": "t0VKWgNilt2K"
      },
      "source": [
        "co2.plot();"
      ],
      "execution_count": null,
      "outputs": []
    },
    {
      "cell_type": "code",
      "metadata": {
        "id": "c_SjiCjDoO9a"
      },
      "source": [
        "#plot the change in co2 during 1970"
      ],
      "execution_count": null,
      "outputs": []
    },
    {
      "cell_type": "code",
      "metadata": {
        "id": "UidNJZ9o-h21"
      },
      "source": [
        "#open a column for indicating the month of each row in the dataframe"
      ],
      "execution_count": null,
      "outputs": []
    },
    {
      "cell_type": "code",
      "metadata": {
        "id": "9Tt8pQJ--tqP"
      },
      "source": [
        "# plot the boxplots for each month"
      ],
      "execution_count": null,
      "outputs": []
    }
  ]
}