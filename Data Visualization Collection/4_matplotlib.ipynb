{
  "nbformat": 4,
  "nbformat_minor": 0,
  "metadata": {
    "kernelspec": {
      "display_name": "Python 3",
      "language": "python",
      "name": "python3"
    },
    "language_info": {
      "codemirror_mode": {
        "name": "ipython",
        "version": 3
      },
      "file_extension": ".py",
      "mimetype": "text/x-python",
      "name": "python",
      "nbconvert_exporter": "python",
      "pygments_lexer": "ipython3",
      "version": "3.7.3"
    },
    "colab": {
      "provenance": []
    }
  },
  "cells": [
    {
      "cell_type": "code",
      "metadata": {
        "id": "p4MrWRGWrIuf"
      },
      "source": [
        "import matplotlib.pyplot as plt \n",
        "import numpy as np  "
      ],
      "execution_count": 1,
      "outputs": []
    },
    {
      "cell_type": "code",
      "metadata": {
        "colab": {
          "base_uri": "https://localhost:8080/",
          "height": 52
        },
        "id": "lGC6OKd4rIul",
        "outputId": "195ea5b5-c0b4-4a5a-aab0-404103a7c594"
      },
      "source": [
        "plt.figure()"
      ],
      "execution_count": 2,
      "outputs": [
        {
          "output_type": "execute_result",
          "data": {
            "text/plain": [
              "<Figure size 432x288 with 0 Axes>"
            ]
          },
          "metadata": {},
          "execution_count": 2
        },
        {
          "output_type": "display_data",
          "data": {
            "text/plain": [
              "<Figure size 432x288 with 0 Axes>"
            ]
          },
          "metadata": {}
        }
      ]
    },
    {
      "cell_type": "code",
      "metadata": {
        "colab": {
          "base_uri": "https://localhost:8080/",
          "height": 282
        },
        "id": "OX1f1mR0rIun",
        "outputId": "f87937b0-55a5-4f8c-f9a4-913cf4ebd6d8"
      },
      "source": [
        "plt.figure()\n",
        "plt.plot(np.array([1.2,1.6]))"
      ],
      "execution_count": 3,
      "outputs": [
        {
          "output_type": "execute_result",
          "data": {
            "text/plain": [
              "[<matplotlib.lines.Line2D at 0x7f2d9754cc50>]"
            ]
          },
          "metadata": {},
          "execution_count": 3
        },
        {
          "output_type": "display_data",
          "data": {
            "text/plain": [
              "<Figure size 432x288 with 1 Axes>"
            ],
            "image/png": "[encoded data removed]"
          },
          "metadata": {
            "needs_background": "light"
          }
        }
      ]
    },
    {
      "cell_type": "code",
      "metadata": {
        "colab": {
          "base_uri": "https://localhost:8080/",
          "height": 296
        },
        "id": "B0eqAP6crIuo",
        "outputId": "a6f5f593-cdb0-42fa-b558-b495f931f175"
      },
      "source": [
        "plt.figure()\n",
        "plt.plot(np.array([4,6,3,10,7]))\n",
        "plt.xlabel(\"input parameter (seconds)\")\n",
        "plt.ylabel(\"values\")"
      ],
      "execution_count": 4,
      "outputs": [
        {
          "output_type": "execute_result",
          "data": {
            "text/plain": [
              "Text(0, 0.5, 'values')"
            ]
          },
          "metadata": {},
          "execution_count": 4
        },
        {
          "output_type": "display_data",
          "data": {
            "text/plain": [
              "<Figure size 432x288 with 1 Axes>"
            ],
            "image/png": "[encoded data removed]"
          },
          "metadata": {
            "needs_background": "light"
          }
        }
      ]
    },
    {
      "cell_type": "code",
      "metadata": {
        "id": "J87CMPkTrIuo"
      },
      "source": [
        "x = [1,2,3,4,5]"
      ],
      "execution_count": 5,
      "outputs": []
    },
    {
      "cell_type": "code",
      "metadata": {
        "id": "Cfz63v5yrIup"
      },
      "source": [
        "y = [7,2,3,5.5,1]"
      ],
      "execution_count": 6,
      "outputs": []
    },
    {
      "cell_type": "code",
      "metadata": {
        "colab": {
          "base_uri": "https://localhost:8080/",
          "height": 446
        },
        "id": "iXvazCdqrIuq",
        "outputId": "09fd2ac7-3147-4f28-d74e-0ed20571605d"
      },
      "source": [
        "plt.xticks(x,[\"b1\",\"b2\",\"b3\",\"b4\",\"b5\"],rotation=90)"
      ],
      "execution_count": 7,
      "outputs": [
        {
          "output_type": "execute_result",
          "data": {
            "text/plain": [
              "([<matplotlib.axis.XTick at 0x7f2d97018b50>,\n",
              "  <matplotlib.axis.XTick at 0x7f2d97018b10>,\n",
              "  <matplotlib.axis.XTick at 0x7f2d97018750>,\n",
              "  <matplotlib.axis.XTick at 0x7f2d96fc12d0>,\n",
              "  <matplotlib.axis.XTick at 0x7f2d96fc1790>],\n",
              " [Text(0, 0, 'b1'),\n",
              "  Text(0, 0, 'b2'),\n",
              "  Text(0, 0, 'b3'),\n",
              "  Text(0, 0, 'b4'),\n",
              "  Text(0, 0, 'b5')])"
            ]
          },
          "metadata": {},
          "execution_count": 7
        },
        {
          "output_type": "display_data",
          "data": {
            "text/plain": [
              "<Figure size 432x288 with 1 Axes>"
            ],
            "image/png": "[encoded data removed]"
          },
          "metadata": {
            "needs_background": "light"
          }
        }
      ]
    },
    {
      "cell_type": "code",
      "metadata": {
        "colab": {
          "base_uri": "https://localhost:8080/",
          "height": 275
        },
        "id": "iAVxNBVfrIut",
        "outputId": "0c737335-d197-4865-cad4-5aa68c55b75c"
      },
      "source": [
        "plt.xticks(x,[\"b1\",\"b2\",\"b3\",\"b4\",\"b5\"],rotation=-60)\n",
        "plt.grid(True)"
      ],
      "execution_count": 8,
      "outputs": [
        {
          "output_type": "display_data",
          "data": {
            "text/plain": [
              "<Figure size 432x288 with 1 Axes>"
            ],
            "image/png": "[encoded data removed]"
          },
          "metadata": {
            "needs_background": "light"
          }
        }
      ]
    },
    {
      "cell_type": "code",
      "metadata": {
        "colab": {
          "base_uri": "https://localhost:8080/",
          "height": 288
        },
        "id": "jkNtZ5rkrIuv",
        "outputId": "53f304e8-07c7-42ae-aaf0-d096a2029333"
      },
      "source": [
        "plt.xticks(x,[\"b1\",\"b2\",\"b3\",\"b4\",\"b5\"],rotation=-60)\n",
        "plt.grid(True)\n",
        "plt.bar(x,y, align='edge')"
      ],
      "execution_count": 9,
      "outputs": [
        {
          "output_type": "execute_result",
          "data": {
            "text/plain": [
              "<BarContainer object of 5 artists>"
            ]
          },
          "metadata": {},
          "execution_count": 9
        },
        {
          "output_type": "display_data",
          "data": {
            "text/plain": [
              "<Figure size 432x288 with 1 Axes>"
            ],
            "image/png": "[encoded data removed]"
          },
          "metadata": {
            "needs_background": "light"
          }
        }
      ]
    },
    {
      "cell_type": "code",
      "metadata": {
        "id": "8T2NTczurIuy"
      },
      "source": [
        "a = np.random.uniform(1,10,7) "
      ],
      "execution_count": 10,
      "outputs": []
    },
    {
      "cell_type": "code",
      "metadata": {
        "colab": {
          "base_uri": "https://localhost:8080/"
        },
        "id": "bWwJQgQ4rIuz",
        "outputId": "967c5366-1869-44eb-b915-06e506571057"
      },
      "source": [
        "print(a)"
      ],
      "execution_count": 11,
      "outputs": [
        {
          "output_type": "stream",
          "name": "stdout",
          "text": [
            "[5.11078192 7.93433691 1.79270353 8.25791617 6.97409629 3.22342477\n",
            " 6.37060937]\n"
          ]
        }
      ]
    },
    {
      "cell_type": "code",
      "metadata": {
        "id": "M0FZjTZPrIuz"
      },
      "source": [
        "L = [\"b1\", \"b2\", \"b3\", \"b4\", \"b5\", \"b6\", \"b7\"] "
      ],
      "execution_count": 12,
      "outputs": []
    },
    {
      "cell_type": "code",
      "metadata": {
        "colab": {
          "base_uri": "https://localhost:8080/",
          "height": 491
        },
        "id": "ztQgsQN6rIu0",
        "outputId": "18424e15-9001-4fb7-df35-66f64eda6128"
      },
      "source": [
        "plt.pie(a,labels = L)"
      ],
      "execution_count": 13,
      "outputs": [
        {
          "output_type": "execute_result",
          "data": {
            "text/plain": [
              "([<matplotlib.patches.Wedge at 0x7f2d96f09690>,\n",
              "  <matplotlib.patches.Wedge at 0x7f2d96f09a10>,\n",
              "  <matplotlib.patches.Wedge at 0x7f2d96f13110>,\n",
              "  <matplotlib.patches.Wedge at 0x7f2d96f131d0>,\n",
              "  <matplotlib.patches.Wedge at 0x7f2d96f13fd0>,\n",
              "  <matplotlib.patches.Wedge at 0x7f2d96f20690>,\n",
              "  <matplotlib.patches.Wedge at 0x7f2d96f203d0>],\n",
              " [Text(1.0110986261805976, 0.4332199996949681, 'b1'),\n",
              "  Text(0.1455974164220241, 1.0903216921309196, 'b2'),\n",
              "  Text(-0.6548691971425918, 0.8838248325510081, 'b3'),\n",
              "  Text(-1.0896857321866278, 0.15028308310948807, 'b4'),\n",
              "  Text(-0.5287076769218996, -0.9646077919879397, 'b5'),\n",
              "  Text(0.33169729220813743, -1.048797838642791, 'b6'),\n",
              "  Text(0.9629119257673646, -0.5317900179723059, 'b7')])"
            ]
          },
          "metadata": {},
          "execution_count": 13
        },
        {
          "output_type": "display_data",
          "data": {
            "text/plain": [
              "<Figure size 432x288 with 1 Axes>"
            ],
            "image/png": "[encoded data removed]"
          },
          "metadata": {}
        }
      ]
    },
    {
      "cell_type": "code",
      "metadata": {
        "id": "yjbBKYdNrIu1"
      },
      "source": [
        "# By looking at the documentation at \n",
        "# https://matplotlib.org/stable/api/_as_gen/matplotlib.pyplot.pie.html, \n",
        "# draw an exploded pie chart"
      ],
      "execution_count": 14,
      "outputs": []
    },
    {
      "cell_type": "code",
      "metadata": {
        "colab": {
          "base_uri": "https://localhost:8080/",
          "height": 491
        },
        "id": "1eX4QjTrrIu1",
        "outputId": "46b370de-e939-4223-dc96-6222be801c89"
      },
      "source": [
        " plt.pie(a,labels = L, wedgeprops=dict(width=1)) # Donut chart"
      ],
      "execution_count": 15,
      "outputs": [
        {
          "output_type": "execute_result",
          "data": {
            "text/plain": [
              "([<matplotlib.patches.Wedge at 0x7f2d96e6e5d0>,\n",
              "  <matplotlib.patches.Wedge at 0x7f2d96e6e950>,\n",
              "  <matplotlib.patches.Wedge at 0x7f2d96e6ea10>,\n",
              "  <matplotlib.patches.Wedge at 0x7f2d96e770d0>,\n",
              "  <matplotlib.patches.Wedge at 0x7f2d96e77f10>,\n",
              "  <matplotlib.patches.Wedge at 0x7f2d96e82590>,\n",
              "  <matplotlib.patches.Wedge at 0x7f2d96e822d0>],\n",
              " [Text(1.0110986261805976, 0.4332199996949681, 'b1'),\n",
              "  Text(0.1455974164220241, 1.0903216921309196, 'b2'),\n",
              "  Text(-0.6548691971425918, 0.8838248325510081, 'b3'),\n",
              "  Text(-1.0896857321866278, 0.15028308310948807, 'b4'),\n",
              "  Text(-0.5287076769218996, -0.9646077919879397, 'b5'),\n",
              "  Text(0.33169729220813743, -1.048797838642791, 'b6'),\n",
              "  Text(0.9629119257673646, -0.5317900179723059, 'b7')])"
            ]
          },
          "metadata": {},
          "execution_count": 15
        },
        {
          "output_type": "display_data",
          "data": {
            "text/plain": [
              "<Figure size 432x288 with 1 Axes>"
            ],
            "image/png": "[encoded data removed]"
          },
          "metadata": {}
        }
      ]
    },
    {
      "cell_type": "code",
      "metadata": {
        "colab": {
          "base_uri": "https://localhost:8080/",
          "height": 281
        },
        "id": "oiAJuXXzrIu2",
        "outputId": "f9ad1c1a-a076-4e1e-a15e-84ae0546850c"
      },
      "source": [
        "plt.pie(a,labels = L)\n",
        "plt.title(\"A pie chart\")"
      ],
      "execution_count": 16,
      "outputs": [
        {
          "output_type": "execute_result",
          "data": {
            "text/plain": [
              "Text(0.5, 1.0, 'A pie chart')"
            ]
          },
          "metadata": {},
          "execution_count": 16
        },
        {
          "output_type": "display_data",
          "data": {
            "text/plain": [
              "<Figure size 432x288 with 1 Axes>"
            ],
            "image/png": "[encoded data removed]"
          },
          "metadata": {}
        }
      ]
    },
    {
      "cell_type": "code",
      "metadata": {
        "id": "-sXB1jSFrIu3"
      },
      "source": [
        "x = np.random.normal(0,0.1,1000) "
      ],
      "execution_count": 17,
      "outputs": []
    },
    {
      "cell_type": "code",
      "metadata": {
        "colab": {
          "base_uri": "https://localhost:8080/",
          "height": 786
        },
        "id": "Hmg4eWcVrIu3",
        "outputId": "1805ec9e-6c8f-4b73-e9f2-7165eb41901f"
      },
      "source": [
        "plt.hist(x,100)"
      ],
      "execution_count": 18,
      "outputs": [
        {
          "output_type": "execute_result",
          "data": {
            "text/plain": [
              "(array([ 1.,  0.,  0.,  0.,  0.,  0.,  0.,  1.,  1.,  0.,  0.,  0.,  1.,\n",
              "         0.,  1.,  1.,  2.,  1.,  2.,  1.,  5.,  4.,  2.,  3.,  3.,  6.,\n",
              "         4.,  9.,  8., 13., 12.,  8., 11., 11., 13., 12., 17., 16., 13.,\n",
              "        16., 18., 23., 25., 24., 26., 26., 23., 30., 21., 40., 25., 23.,\n",
              "        30., 22., 30., 18., 26., 31., 28., 27., 24., 19., 29., 14., 26.,\n",
              "        19., 18., 19., 15.,  7., 14.,  7.,  9.,  8.,  9.,  4.,  6.,  1.,\n",
              "         7.,  4.,  6.,  1.,  3.,  3.,  3.,  2.,  3.,  2.,  1.,  1.,  0.,\n",
              "         0.,  0.,  0.,  0.,  0.,  0.,  0.,  0.,  2.]),\n",
              " array([-0.34997295, -0.34317985, -0.33638675, -0.32959366, -0.32280056,\n",
              "        -0.31600746, -0.30921437, -0.30242127, -0.29562817, -0.28883508,\n",
              "        -0.28204198, -0.27524888, -0.26845579, -0.26166269, -0.25486959,\n",
              "        -0.24807649, -0.2412834 , -0.2344903 , -0.2276972 , -0.22090411,\n",
              "        -0.21411101, -0.20731791, -0.20052482, -0.19373172, -0.18693862,\n",
              "        -0.18014553, -0.17335243, -0.16655933, -0.15976624, -0.15297314,\n",
              "        -0.14618004, -0.13938694, -0.13259385, -0.12580075, -0.11900765,\n",
              "        -0.11221456, -0.10542146, -0.09862836, -0.09183527, -0.08504217,\n",
              "        -0.07824907, -0.07145598, -0.06466288, -0.05786978, -0.05107668,\n",
              "        -0.04428359, -0.03749049, -0.03069739, -0.0239043 , -0.0171112 ,\n",
              "        -0.0103181 , -0.00352501,  0.00326809,  0.01006119,  0.01685428,\n",
              "         0.02364738,  0.03044048,  0.03723357,  0.04402667,  0.05081977,\n",
              "         0.05761287,  0.06440596,  0.07119906,  0.07799216,  0.08478525,\n",
              "         0.09157835,  0.09837145,  0.10516454,  0.11195764,  0.11875074,\n",
              "         0.12554383,  0.13233693,  0.13913003,  0.14592312,  0.15271622,\n",
              "         0.15950932,  0.16630242,  0.17309551,  0.17988861,  0.18668171,\n",
              "         0.1934748 ,  0.2002679 ,  0.207061  ,  0.21385409,  0.22064719,\n",
              "         0.22744029,  0.23423338,  0.24102648,  0.24781958,  0.25461267,\n",
              "         0.26140577,  0.26819887,  0.27499197,  0.28178506,  0.28857816,\n",
              "         0.29537126,  0.30216435,  0.30895745,  0.31575055,  0.32254364,\n",
              "         0.32933674]),\n",
              " <a list of 100 Patch objects>)"
            ]
          },
          "metadata": {},
          "execution_count": 18
        },
        {
          "output_type": "display_data",
          "data": {
            "text/plain": [
              "<Figure size 432x288 with 1 Axes>"
            ],
            "image/png": "[encoded data removed]"
          },
          "metadata": {
            "needs_background": "light"
          }
        }
      ]
    },
    {
      "cell_type": "code",
      "metadata": {
        "id": "g2PsiiULrIu4"
      },
      "source": [
        "#Change the number bins depending on square root rule and Sturge's formula"
      ],
      "execution_count": 19,
      "outputs": []
    },
    {
      "cell_type": "code",
      "metadata": {
        "id": "EvT8zHnbrIu6"
      },
      "source": [
        "x = np.random.uniform(1,100,50)"
      ],
      "execution_count": 20,
      "outputs": []
    },
    {
      "cell_type": "code",
      "metadata": {
        "id": "bZ_z9M5yrIu6"
      },
      "source": [
        "y = np.random.normal(20, 10, 50)"
      ],
      "execution_count": 21,
      "outputs": []
    },
    {
      "cell_type": "code",
      "metadata": {
        "id": "EHMb15I50pl2",
        "outputId": "3785a128-fd89-4e80-ed25-031f83c7bb04",
        "colab": {
          "base_uri": "https://localhost:8080/"
        }
      },
      "source": [
        "y"
      ],
      "execution_count": 22,
      "outputs": [
        {
          "output_type": "execute_result",
          "data": {
            "text/plain": [
              "array([ 8.86906404,  7.40252164,  5.21906862, 18.79016114, 10.95470098,\n",
              "       22.96483756, 21.53153563, 40.02890001, -1.49353289, -2.64843091,\n",
              "        9.89032742, 33.5499717 , 12.72363952, 17.76745235, 13.7345646 ,\n",
              "        8.16222331, -0.47391314, 18.6184233 , 19.64741558, 20.27657578,\n",
              "       10.19150018, 30.73555526,  3.78808296,  2.97535381, 39.1060042 ,\n",
              "       10.04550371, 17.94756042, 21.42960998, 28.15442323, 15.91792878,\n",
              "        0.90597586, 16.38799504, 15.20991864, 14.8771665 , 23.93414802,\n",
              "       11.73447791, 22.59779507, 31.94904952, 21.56605695, 19.07300867,\n",
              "       23.0653369 , 26.3756934 , 21.1052406 , 25.65838806, 15.38550434,\n",
              "       27.62154667, 15.05508905, 25.49731873, 33.75883114,  3.23797873])"
            ]
          },
          "metadata": {},
          "execution_count": 22
        }
      ]
    },
    {
      "cell_type": "code",
      "metadata": {
        "colab": {
          "base_uri": "https://localhost:8080/",
          "height": 282
        },
        "id": "biNR0r1drIu6",
        "outputId": "6357f9f5-cc06-43ee-e996-0c7a72763c0c"
      },
      "source": [
        "plt.scatter(x,y)"
      ],
      "execution_count": 23,
      "outputs": [
        {
          "output_type": "execute_result",
          "data": {
            "text/plain": [
              "<matplotlib.collections.PathCollection at 0x7f2d96df7d10>"
            ]
          },
          "metadata": {},
          "execution_count": 23
        },
        {
          "output_type": "display_data",
          "data": {
            "text/plain": [
              "<Figure size 432x288 with 1 Axes>"
            ],
            "image/png": "[encoded data removed]"
          },
          "metadata": {
            "needs_background": "light"
          }
        }
      ]
    },
    {
      "cell_type": "code",
      "metadata": {
        "id": "RZTVDFnJrIu7"
      },
      "source": [
        "x = np.random.uniform(1,100,50)"
      ],
      "execution_count": 24,
      "outputs": []
    },
    {
      "cell_type": "code",
      "metadata": {
        "colab": {
          "base_uri": "https://localhost:8080/"
        },
        "id": "_WWnsoZ3rIu7",
        "outputId": "75bf4f2d-6df1-4bbe-dce0-8449690cf297"
      },
      "source": [
        "print(x)"
      ],
      "execution_count": 25,
      "outputs": [
        {
          "output_type": "stream",
          "name": "stdout",
          "text": [
            "[ 3.29198088 11.32687401 48.88023624 48.15343507 86.08925567 58.65162307\n",
            " 48.63940936 65.54269798 38.91893462  5.83974644 57.79503795 40.86458395\n",
            " 82.63908452 29.85701333  3.42082858 41.13852495 97.31789229 93.05338895\n",
            " 31.97781568 91.62705584 47.1759185  92.83565427 89.91149429 88.12791018\n",
            " 91.98831913 84.23008196 22.27036339 63.60747938 83.72188595 30.42399221\n",
            " 47.68354288 70.25056601  4.056585   14.52081793 23.41721043 14.43058641\n",
            " 68.14596589 94.50923964 50.2073333  48.9257138  85.28850173 52.67326402\n",
            "  8.86802968 12.92735293  7.27656212 15.64244758 63.14480593 85.61260304\n",
            " 50.64461369  9.74894433]\n"
          ]
        }
      ]
    },
    {
      "cell_type": "code",
      "metadata": {
        "colab": {
          "base_uri": "https://localhost:8080/",
          "height": 404
        },
        "id": "QnaHLkXArIu7",
        "outputId": "6edd0c3a-46b2-42b5-d8c2-5cc3e8aa0c5a"
      },
      "source": [
        "plt.boxplot(x)"
      ],
      "execution_count": 26,
      "outputs": [
        {
          "output_type": "execute_result",
          "data": {
            "text/plain": [
              "{'whiskers': [<matplotlib.lines.Line2D at 0x7f2d96bd52d0>,\n",
              "  <matplotlib.lines.Line2D at 0x7f2d96bd5810>],\n",
              " 'caps': [<matplotlib.lines.Line2D at 0x7f2d96bd5d50>,\n",
              "  <matplotlib.lines.Line2D at 0x7f2d96bdb2d0>],\n",
              " 'boxes': [<matplotlib.lines.Line2D at 0x7f2d96bcc390>],\n",
              " 'medians': [<matplotlib.lines.Line2D at 0x7f2d96bdb850>],\n",
              " 'fliers': [<matplotlib.lines.Line2D at 0x7f2d96bdbd90>],\n",
              " 'means': []}"
            ]
          },
          "metadata": {},
          "execution_count": 26
        },
        {
          "output_type": "display_data",
          "data": {
            "text/plain": [
              "<Figure size 432x288 with 1 Axes>"
            ],
            "image/png": "[encoded data removed]"
          },
          "metadata": {
            "needs_background": "light"
          }
        }
      ]
    }
  ]
}